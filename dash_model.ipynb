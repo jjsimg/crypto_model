{
 "cells": [
  {
   "cell_type": "code",
   "execution_count": 1,
   "metadata": {
    "collapsed": false
   },
   "outputs": [
    {
     "data": {
      "text/html": [
       "<div>\n",
       "<table border=\"1\" class=\"dataframe\">\n",
       "  <thead>\n",
       "    <tr style=\"text-align: right;\">\n",
       "      <th></th>\n",
       "      <th>Date</th>\n",
       "      <th>Open</th>\n",
       "      <th>High</th>\n",
       "      <th>Low</th>\n",
       "      <th>Close</th>\n",
       "      <th>Volume</th>\n",
       "      <th>Market Cap</th>\n",
       "    </tr>\n",
       "  </thead>\n",
       "  <tbody>\n",
       "    <tr>\n",
       "      <th>0</th>\n",
       "      <td>2017-12-09</td>\n",
       "      <td>727.64</td>\n",
       "      <td>774.65</td>\n",
       "      <td>707.32</td>\n",
       "      <td>723.61</td>\n",
       "      <td>211738000</td>\n",
       "      <td>5633100000</td>\n",
       "    </tr>\n",
       "    <tr>\n",
       "      <th>1</th>\n",
       "      <td>2017-12-08</td>\n",
       "      <td>700.68</td>\n",
       "      <td>766.04</td>\n",
       "      <td>659.86</td>\n",
       "      <td>726.67</td>\n",
       "      <td>288291000</td>\n",
       "      <td>5423040000</td>\n",
       "    </tr>\n",
       "    <tr>\n",
       "      <th>2</th>\n",
       "      <td>2017-12-07</td>\n",
       "      <td>699.99</td>\n",
       "      <td>714.51</td>\n",
       "      <td>667.83</td>\n",
       "      <td>697.90</td>\n",
       "      <td>249305000</td>\n",
       "      <td>5416260000</td>\n",
       "    </tr>\n",
       "    <tr>\n",
       "      <th>3</th>\n",
       "      <td>2017-12-06</td>\n",
       "      <td>756.01</td>\n",
       "      <td>785.18</td>\n",
       "      <td>692.02</td>\n",
       "      <td>700.07</td>\n",
       "      <td>249073000</td>\n",
       "      <td>5848270000</td>\n",
       "    </tr>\n",
       "    <tr>\n",
       "      <th>4</th>\n",
       "      <td>2017-12-05</td>\n",
       "      <td>774.71</td>\n",
       "      <td>779.98</td>\n",
       "      <td>754.27</td>\n",
       "      <td>756.36</td>\n",
       "      <td>201103000</td>\n",
       "      <td>5991370000</td>\n",
       "    </tr>\n",
       "  </tbody>\n",
       "</table>\n",
       "</div>"
      ],
      "text/plain": [
       "        Date    Open    High     Low   Close     Volume  Market Cap\n",
       "0 2017-12-09  727.64  774.65  707.32  723.61  211738000  5633100000\n",
       "1 2017-12-08  700.68  766.04  659.86  726.67  288291000  5423040000\n",
       "2 2017-12-07  699.99  714.51  667.83  697.90  249305000  5416260000\n",
       "3 2017-12-06  756.01  785.18  692.02  700.07  249073000  5848270000\n",
       "4 2017-12-05  774.71  779.98  754.27  756.36  201103000  5991370000"
      ]
     },
     "execution_count": 1,
     "metadata": {},
     "output_type": "execute_result"
    }
   ],
   "source": [
    "import pandas as pd\n",
    "import time\n",
    "import seaborn as sns\n",
    "import matplotlib.pyplot as plt\n",
    "import datetime\n",
    "import numpy as np\n",
    "\n",
    "# get market info for dash from the start of 2016 to the current day\n",
    "dash_market_info = pd.read_html(\"https://coinmarketcap.com/currencies/dash/historical-data/?start=20130428&end=\"+time.strftime(\"%Y%m%d\"))[0]\n",
    "# convert the date string to the correct date format\n",
    "dash_market_info = dash_market_info.assign(Date=pd.to_datetime(dash_market_info['Date']))\n",
    "# when Volume is equal to '-' convert it to 0\n",
    "# dash_market_info.loc[dash_market_info['Volume']==\"-\",'Volume']=0\n",
    "# convert to int\n",
    "dash_market_info['Volume'] = dash_market_info['Volume'].astype('int64')\n",
    "# look at the first few rows\n",
    "dash_market_info.head()"
   ]
  },
  {
   "cell_type": "code",
   "execution_count": 2,
   "metadata": {
    "collapsed": true
   },
   "outputs": [],
   "source": [
    "dash_market_info.columns =[dash_market_info.columns[0]]+['dash_'+i for i in dash_market_info.columns[1:]]\n",
    "dash_market_info = dash_market_info[dash_market_info['Date']>='2016-06-01']"
   ]
  },
  {
   "cell_type": "code",
   "execution_count": 3,
   "metadata": {
    "collapsed": false
   },
   "outputs": [
    {
     "data": {
      "image/png": "[encoded data removed]",
      "text/plain": [
       "<matplotlib.figure.Figure at 0x183089c8978>"
      ]
     },
     "metadata": {},
     "output_type": "display_data"
    }
   ],
   "source": [
    "fig, (ax1, ax2) = plt.subplots(2,1, gridspec_kw = {'height_ratios':[3, 1]})\n",
    "ax1.set_ylabel('Closing Price ($)',fontsize=12)\n",
    "ax2.set_ylabel('Volume ($ bn)',fontsize=12)\n",
    "ax2.set_yticks([int('%d000000000'%i) for i in range(10)])\n",
    "ax2.set_yticklabels(range(10))\n",
    "ax1.set_xticks([datetime.date(i,j,1) for i in range(2013,2019) for j in [1,7]])\n",
    "ax1.set_xticklabels('')\n",
    "ax2.set_xticks([datetime.date(i,j,1) for i in range(2013,2019) for j in [1,7]])\n",
    "ax2.set_xticklabels([datetime.date(i,j,1).strftime('%b %Y')  for i in range(2013,2019) for j in [1,7]])\n",
    "ax1.plot(dash_market_info['Date'].astype(datetime.datetime),dash_market_info['dash_Open'])\n",
    "ax2.bar(dash_market_info['Date'].astype(datetime.datetime).values, dash_market_info['dash_Volume'].values)\n",
    "fig.tight_layout()\n",
    "# fig.figimage(bitcoin_im, 100, 120, zorder=3,alpha=.5)\n",
    "plt.show()"
   ]
  },
  {
   "cell_type": "code",
   "execution_count": 4,
   "metadata": {
    "collapsed": false
   },
   "outputs": [
    {
     "data": {
      "text/html": [
       "<div>\n",
       "<table border=\"1\" class=\"dataframe\">\n",
       "  <thead>\n",
       "    <tr style=\"text-align: right;\">\n",
       "      <th></th>\n",
       "      <th>Date</th>\n",
       "      <th>dash_Open</th>\n",
       "      <th>dash_High</th>\n",
       "      <th>dash_Low</th>\n",
       "      <th>dash_Close</th>\n",
       "      <th>dash_Volume</th>\n",
       "      <th>dash_Market Cap</th>\n",
       "      <th>dash_day_diff</th>\n",
       "    </tr>\n",
       "  </thead>\n",
       "  <tbody>\n",
       "    <tr>\n",
       "      <th>0</th>\n",
       "      <td>2017-12-09</td>\n",
       "      <td>727.64</td>\n",
       "      <td>774.65</td>\n",
       "      <td>707.32</td>\n",
       "      <td>723.61</td>\n",
       "      <td>211738000</td>\n",
       "      <td>5633100000</td>\n",
       "      <td>-0.005538</td>\n",
       "    </tr>\n",
       "    <tr>\n",
       "      <th>1</th>\n",
       "      <td>2017-12-08</td>\n",
       "      <td>700.68</td>\n",
       "      <td>766.04</td>\n",
       "      <td>659.86</td>\n",
       "      <td>726.67</td>\n",
       "      <td>288291000</td>\n",
       "      <td>5423040000</td>\n",
       "      <td>0.037093</td>\n",
       "    </tr>\n",
       "    <tr>\n",
       "      <th>2</th>\n",
       "      <td>2017-12-07</td>\n",
       "      <td>699.99</td>\n",
       "      <td>714.51</td>\n",
       "      <td>667.83</td>\n",
       "      <td>697.90</td>\n",
       "      <td>249305000</td>\n",
       "      <td>5416260000</td>\n",
       "      <td>-0.002986</td>\n",
       "    </tr>\n",
       "    <tr>\n",
       "      <th>3</th>\n",
       "      <td>2017-12-06</td>\n",
       "      <td>756.01</td>\n",
       "      <td>785.18</td>\n",
       "      <td>692.02</td>\n",
       "      <td>700.07</td>\n",
       "      <td>249073000</td>\n",
       "      <td>5848270000</td>\n",
       "      <td>-0.073994</td>\n",
       "    </tr>\n",
       "    <tr>\n",
       "      <th>4</th>\n",
       "      <td>2017-12-05</td>\n",
       "      <td>774.71</td>\n",
       "      <td>779.98</td>\n",
       "      <td>754.27</td>\n",
       "      <td>756.36</td>\n",
       "      <td>201103000</td>\n",
       "      <td>5991370000</td>\n",
       "      <td>-0.023686</td>\n",
       "    </tr>\n",
       "  </tbody>\n",
       "</table>\n",
       "</div>"
      ],
      "text/plain": [
       "        Date  dash_Open  dash_High  dash_Low  dash_Close  dash_Volume  \\\n",
       "0 2017-12-09     727.64     774.65    707.32      723.61    211738000   \n",
       "1 2017-12-08     700.68     766.04    659.86      726.67    288291000   \n",
       "2 2017-12-07     699.99     714.51    667.83      697.90    249305000   \n",
       "3 2017-12-06     756.01     785.18    692.02      700.07    249073000   \n",
       "4 2017-12-05     774.71     779.98    754.27      756.36    201103000   \n",
       "\n",
       "   dash_Market Cap  dash_day_diff  \n",
       "0       5633100000      -0.005538  \n",
       "1       5423040000       0.037093  \n",
       "2       5416260000      -0.002986  \n",
       "3       5848270000      -0.073994  \n",
       "4       5991370000      -0.023686  "
      ]
     },
     "execution_count": 4,
     "metadata": {},
     "output_type": "execute_result"
    }
   ],
   "source": [
    "# market_info = pd.merge(bitcoin_market_info,eth_market_info, on=['Date'])\n",
    "# market_info = market_info[market_info['Date']>='2016-01-01']\n",
    "# for coins in ['bt_', 'eth_']: \n",
    "#     kwargs = { coins+'day_diff': lambda x: (x[coins+'Close']-x[coins+'Open'])/x[coins+'Open']}\n",
    "#     market_info = market_info.assign(**kwargs)\n",
    "# market_info.head()\n",
    "kwargs = {'dash_day_diff': lambda x: (x['dash_Close']-x['dash_Open'])/x['dash_Open']}\n",
    "dash_market_info = dash_market_info.assign(**kwargs)\n",
    "dash_market_info.head()"
   ]
  },
  {
   "cell_type": "code",
   "execution_count": 5,
   "metadata": {
    "collapsed": false
   },
   "outputs": [
    {
     "data": {
      "image/png": "[encoded data removed]",
      "text/plain": [
       "<matplotlib.figure.Figure at 0x18308c557f0>"
      ]
     },
     "metadata": {},
     "output_type": "display_data"
    }
   ],
   "source": [
    "split_date = '2017-06-01'\n",
    "fig, ax1 = plt.subplots(1,1)\n",
    "ax1.set_xticks([datetime.date(i,j,1) for i in range(2013,2019) for j in [1,7]])\n",
    "ax1.set_xticklabels([datetime.date(i,j,1).strftime('%b %Y')  for i in range(2013,2019) for j in [1,7]])\n",
    "ax1.plot(dash_market_info[dash_market_info['Date'] < split_date]['Date'].astype(datetime.datetime),\n",
    "         dash_market_info[dash_market_info['Date'] < split_date]['dash_Close'], \n",
    "         color='#B08FC7', label='Training')\n",
    "ax1.plot(dash_market_info[dash_market_info['Date'] >= split_date]['Date'].astype(datetime.datetime),\n",
    "         dash_market_info[dash_market_info['Date'] >= split_date]['dash_Close'], \n",
    "         color='#8FBAC8', label='Test')\n",
    "ax1.set_ylabel('Dash Price ($)',fontsize=12)\n",
    "plt.tight_layout()\n",
    "ax1.legend(bbox_to_anchor=(0.03, 1), loc=2, borderaxespad=0., prop={'size': 14})\n",
    "# fig.figimage(bitcoin_im.resize((int(bitcoin_im.size[0]*0.65), int(bitcoin_im.size[1]*0.65)), Image.ANTIALIAS), \n",
    "#              200, 260, zorder=3,alpha=.5)\n",
    "# fig.figimage(eth_im.resize((int(eth_im.size[0]*0.65), int(eth_im.size[1]*0.65)), Image.ANTIALIAS), \n",
    "#              350, 40, zorder=3,alpha=.5)\n",
    "plt.show()"
   ]
  },
  {
   "cell_type": "code",
   "execution_count": 6,
   "metadata": {
    "collapsed": false
   },
   "outputs": [
    {
     "data": {
      "image/png": "[encoded data removed]",
      "text/plain": [
       "<matplotlib.figure.Figure at 0x18308997fd0>"
      ]
     },
     "metadata": {},
     "output_type": "display_data"
    }
   ],
   "source": [
    "# distribution of daily price changes\n",
    "fig, ax1 = plt.subplots(1,1)\n",
    "ax1.hist(dash_market_info[dash_market_info['Date']< split_date]['dash_day_diff'].values, bins=100)\n",
    "ax1.set_title('Dash Daily Price Changes')\n",
    "plt.show()"
   ]
  },
  {
   "cell_type": "code",
   "execution_count": 7,
   "metadata": {
    "collapsed": false
   },
   "outputs": [
    {
     "data": {
      "text/html": [
       "<div>\n",
       "<table border=\"1\" class=\"dataframe\">\n",
       "  <thead>\n",
       "    <tr style=\"text-align: right;\">\n",
       "      <th></th>\n",
       "      <th>Date</th>\n",
       "      <th>dash_Open</th>\n",
       "      <th>dash_High</th>\n",
       "      <th>dash_Low</th>\n",
       "      <th>dash_Close</th>\n",
       "      <th>dash_Volume</th>\n",
       "      <th>dash_Market Cap</th>\n",
       "      <th>dash_day_diff</th>\n",
       "      <th>dash_close_off_high</th>\n",
       "      <th>dash_volatility</th>\n",
       "    </tr>\n",
       "  </thead>\n",
       "  <tbody>\n",
       "    <tr>\n",
       "      <th>0</th>\n",
       "      <td>2017-12-09</td>\n",
       "      <td>727.64</td>\n",
       "      <td>774.65</td>\n",
       "      <td>707.32</td>\n",
       "      <td>723.61</td>\n",
       "      <td>211738000</td>\n",
       "      <td>5633100000</td>\n",
       "      <td>-0.005538</td>\n",
       "      <td>0.516115</td>\n",
       "      <td>0.092532</td>\n",
       "    </tr>\n",
       "    <tr>\n",
       "      <th>1</th>\n",
       "      <td>2017-12-08</td>\n",
       "      <td>700.68</td>\n",
       "      <td>766.04</td>\n",
       "      <td>659.86</td>\n",
       "      <td>726.67</td>\n",
       "      <td>288291000</td>\n",
       "      <td>5423040000</td>\n",
       "      <td>0.037093</td>\n",
       "      <td>-0.258429</td>\n",
       "      <td>0.151539</td>\n",
       "    </tr>\n",
       "    <tr>\n",
       "      <th>2</th>\n",
       "      <td>2017-12-07</td>\n",
       "      <td>699.99</td>\n",
       "      <td>714.51</td>\n",
       "      <td>667.83</td>\n",
       "      <td>697.90</td>\n",
       "      <td>249305000</td>\n",
       "      <td>5416260000</td>\n",
       "      <td>-0.002986</td>\n",
       "      <td>-0.288346</td>\n",
       "      <td>0.066687</td>\n",
       "    </tr>\n",
       "    <tr>\n",
       "      <th>3</th>\n",
       "      <td>2017-12-06</td>\n",
       "      <td>756.01</td>\n",
       "      <td>785.18</td>\n",
       "      <td>692.02</td>\n",
       "      <td>700.07</td>\n",
       "      <td>249073000</td>\n",
       "      <td>5848270000</td>\n",
       "      <td>-0.073994</td>\n",
       "      <td>0.827179</td>\n",
       "      <td>0.123226</td>\n",
       "    </tr>\n",
       "    <tr>\n",
       "      <th>4</th>\n",
       "      <td>2017-12-05</td>\n",
       "      <td>774.71</td>\n",
       "      <td>779.98</td>\n",
       "      <td>754.27</td>\n",
       "      <td>756.36</td>\n",
       "      <td>201103000</td>\n",
       "      <td>5991370000</td>\n",
       "      <td>-0.023686</td>\n",
       "      <td>0.837417</td>\n",
       "      <td>0.033187</td>\n",
       "    </tr>\n",
       "  </tbody>\n",
       "</table>\n",
       "</div>"
      ],
      "text/plain": [
       "        Date  dash_Open  dash_High  dash_Low  dash_Close  dash_Volume  \\\n",
       "0 2017-12-09     727.64     774.65    707.32      723.61    211738000   \n",
       "1 2017-12-08     700.68     766.04    659.86      726.67    288291000   \n",
       "2 2017-12-07     699.99     714.51    667.83      697.90    249305000   \n",
       "3 2017-12-06     756.01     785.18    692.02      700.07    249073000   \n",
       "4 2017-12-05     774.71     779.98    754.27      756.36    201103000   \n",
       "\n",
       "   dash_Market Cap  dash_day_diff  dash_close_off_high  dash_volatility  \n",
       "0       5633100000      -0.005538             0.516115         0.092532  \n",
       "1       5423040000       0.037093            -0.258429         0.151539  \n",
       "2       5416260000      -0.002986            -0.288346         0.066687  \n",
       "3       5848270000      -0.073994             0.827179         0.123226  \n",
       "4       5991370000      -0.023686             0.837417         0.033187  "
      ]
     },
     "execution_count": 7,
     "metadata": {},
     "output_type": "execute_result"
    }
   ],
   "source": [
    "kwargs = { 'dash_close_off_high': lambda x: 2*(x['dash_High']- x['dash_Close'])/(x['dash_High']-x['dash_Low'])-1,\n",
    "            'dash_volatility': lambda x: (x['dash_High']- x['dash_Low'])/(x['dash_Open'])}\n",
    "dash_market_info = dash_market_info.assign(**kwargs)\n",
    "dash_market_info.head()"
   ]
  },
  {
   "cell_type": "code",
   "execution_count": 8,
   "metadata": {
    "collapsed": false
   },
   "outputs": [
    {
     "data": {
      "text/html": [
       "<div>\n",
       "<table border=\"1\" class=\"dataframe\">\n",
       "  <thead>\n",
       "    <tr style=\"text-align: right;\">\n",
       "      <th></th>\n",
       "      <th>Date</th>\n",
       "      <th>dash_Close</th>\n",
       "      <th>dash_Volume</th>\n",
       "      <th>dash_close_off_high</th>\n",
       "      <th>dash_volatility</th>\n",
       "    </tr>\n",
       "  </thead>\n",
       "  <tbody>\n",
       "    <tr>\n",
       "      <th>556</th>\n",
       "      <td>2016-06-01</td>\n",
       "      <td>8.26</td>\n",
       "      <td>320823</td>\n",
       "      <td>-0.241379</td>\n",
       "      <td>0.035452</td>\n",
       "    </tr>\n",
       "    <tr>\n",
       "      <th>555</th>\n",
       "      <td>2016-06-02</td>\n",
       "      <td>8.10</td>\n",
       "      <td>318685</td>\n",
       "      <td>-0.096774</td>\n",
       "      <td>0.037667</td>\n",
       "    </tr>\n",
       "    <tr>\n",
       "      <th>554</th>\n",
       "      <td>2016-06-03</td>\n",
       "      <td>8.06</td>\n",
       "      <td>447007</td>\n",
       "      <td>-0.056604</td>\n",
       "      <td>0.065271</td>\n",
       "    </tr>\n",
       "    <tr>\n",
       "      <th>553</th>\n",
       "      <td>2016-06-04</td>\n",
       "      <td>8.05</td>\n",
       "      <td>445286</td>\n",
       "      <td>-0.142857</td>\n",
       "      <td>0.043424</td>\n",
       "    </tr>\n",
       "    <tr>\n",
       "      <th>552</th>\n",
       "      <td>2016-06-05</td>\n",
       "      <td>7.58</td>\n",
       "      <td>537053</td>\n",
       "      <td>1.000000</td>\n",
       "      <td>0.073383</td>\n",
       "    </tr>\n",
       "  </tbody>\n",
       "</table>\n",
       "</div>"
      ],
      "text/plain": [
       "          Date  dash_Close  dash_Volume  dash_close_off_high  dash_volatility\n",
       "556 2016-06-01        8.26       320823            -0.241379         0.035452\n",
       "555 2016-06-02        8.10       318685            -0.096774         0.037667\n",
       "554 2016-06-03        8.06       447007            -0.056604         0.065271\n",
       "553 2016-06-04        8.05       445286            -0.142857         0.043424\n",
       "552 2016-06-05        7.58       537053             1.000000         0.073383"
      ]
     },
     "execution_count": 8,
     "metadata": {},
     "output_type": "execute_result"
    }
   ],
   "source": [
    "model_data = dash_market_info[['Date']+['dash_'+metric for metric in ['Close', 'Volume', 'close_off_high', 'volatility']]]\n",
    "# need to reverse the data frame so that subsequent rows represent later timepoints\n",
    "model_data = model_data.sort_values(by='Date')\n",
    "model_data.head()"
   ]
  },
  {
   "cell_type": "code",
   "execution_count": 9,
   "metadata": {
    "collapsed": true
   },
   "outputs": [],
   "source": [
    "# we don't need the date columns anymore\n",
    "training_set, test_set = model_data[model_data['Date']<split_date], model_data[model_data['Date']>=split_date]\n",
    "training_set = training_set.drop('Date', 1)\n",
    "test_set = test_set.drop('Date', 1)"
   ]
  },
  {
   "cell_type": "code",
   "execution_count": 10,
   "metadata": {
    "collapsed": true
   },
   "outputs": [],
   "source": [
    "window_len = 10\n",
    "norm_cols = ['dash_Close', 'dash_Volume']\n",
    "# norm_cols = [coin+metric for coin in ['bt_', 'eth_'] for metric in ['Close','Volume']]"
   ]
  },
  {
   "cell_type": "code",
   "execution_count": 11,
   "metadata": {
    "collapsed": true
   },
   "outputs": [],
   "source": [
    "LSTM_training_inputs = []\n",
    "for i in range(len(training_set)-window_len):\n",
    "    temp_set = training_set[i:(i+window_len)].copy()\n",
    "    for col in norm_cols:\n",
    "        temp_set.loc[:, col] = temp_set[col]/temp_set[col].iloc[0] - 1\n",
    "    LSTM_training_inputs.append(temp_set)\n",
    "LSTM_training_outputs = (training_set['dash_Close'][window_len:].values/training_set['dash_Close'][:-window_len].values)-1"
   ]
  },
  {
   "cell_type": "code",
   "execution_count": 12,
   "metadata": {
    "collapsed": true
   },
   "outputs": [],
   "source": [
    "LSTM_test_inputs = []\n",
    "for i in range(len(test_set)-window_len):\n",
    "    temp_set = test_set[i:(i+window_len)].copy()\n",
    "    for col in norm_cols:\n",
    "        temp_set.loc[:, col] = temp_set[col]/temp_set[col].iloc[0] - 1\n",
    "    LSTM_test_inputs.append(temp_set)\n",
    "LSTM_test_outputs = (test_set['dash_Close'][window_len:].values/test_set['dash_Close'][:-window_len].values)-1"
   ]
  },
  {
   "cell_type": "code",
   "execution_count": 13,
   "metadata": {
    "collapsed": false
   },
   "outputs": [
    {
     "data": {
      "text/html": [
       "<div>\n",
       "<table border=\"1\" class=\"dataframe\">\n",
       "  <thead>\n",
       "    <tr style=\"text-align: right;\">\n",
       "      <th></th>\n",
       "      <th>dash_Close</th>\n",
       "      <th>dash_Volume</th>\n",
       "      <th>dash_close_off_high</th>\n",
       "      <th>dash_volatility</th>\n",
       "    </tr>\n",
       "  </thead>\n",
       "  <tbody>\n",
       "    <tr>\n",
       "      <th>556</th>\n",
       "      <td>0.000000</td>\n",
       "      <td>0.000000</td>\n",
       "      <td>-0.241379</td>\n",
       "      <td>0.035452</td>\n",
       "    </tr>\n",
       "    <tr>\n",
       "      <th>555</th>\n",
       "      <td>-0.019370</td>\n",
       "      <td>-0.006664</td>\n",
       "      <td>-0.096774</td>\n",
       "      <td>0.037667</td>\n",
       "    </tr>\n",
       "    <tr>\n",
       "      <th>554</th>\n",
       "      <td>-0.024213</td>\n",
       "      <td>0.393313</td>\n",
       "      <td>-0.056604</td>\n",
       "      <td>0.065271</td>\n",
       "    </tr>\n",
       "    <tr>\n",
       "      <th>553</th>\n",
       "      <td>-0.025424</td>\n",
       "      <td>0.387949</td>\n",
       "      <td>-0.142857</td>\n",
       "      <td>0.043424</td>\n",
       "    </tr>\n",
       "    <tr>\n",
       "      <th>552</th>\n",
       "      <td>-0.082324</td>\n",
       "      <td>0.673985</td>\n",
       "      <td>1.000000</td>\n",
       "      <td>0.073383</td>\n",
       "    </tr>\n",
       "    <tr>\n",
       "      <th>551</th>\n",
       "      <td>-0.059322</td>\n",
       "      <td>-0.056339</td>\n",
       "      <td>-0.357143</td>\n",
       "      <td>0.036891</td>\n",
       "    </tr>\n",
       "    <tr>\n",
       "      <th>550</th>\n",
       "      <td>-0.042373</td>\n",
       "      <td>0.059403</td>\n",
       "      <td>-0.393939</td>\n",
       "      <td>0.042471</td>\n",
       "    </tr>\n",
       "    <tr>\n",
       "      <th>549</th>\n",
       "      <td>-0.046005</td>\n",
       "      <td>-0.149319</td>\n",
       "      <td>-0.111111</td>\n",
       "      <td>0.045397</td>\n",
       "    </tr>\n",
       "    <tr>\n",
       "      <th>548</th>\n",
       "      <td>-0.053269</td>\n",
       "      <td>-0.053207</td>\n",
       "      <td>0.090909</td>\n",
       "      <td>0.027919</td>\n",
       "    </tr>\n",
       "    <tr>\n",
       "      <th>547</th>\n",
       "      <td>-0.050847</td>\n",
       "      <td>0.481608</td>\n",
       "      <td>0.647059</td>\n",
       "      <td>0.043646</td>\n",
       "    </tr>\n",
       "  </tbody>\n",
       "</table>\n",
       "</div>"
      ],
      "text/plain": [
       "     dash_Close  dash_Volume  dash_close_off_high  dash_volatility\n",
       "556    0.000000     0.000000            -0.241379         0.035452\n",
       "555   -0.019370    -0.006664            -0.096774         0.037667\n",
       "554   -0.024213     0.393313            -0.056604         0.065271\n",
       "553   -0.025424     0.387949            -0.142857         0.043424\n",
       "552   -0.082324     0.673985             1.000000         0.073383\n",
       "551   -0.059322    -0.056339            -0.357143         0.036891\n",
       "550   -0.042373     0.059403            -0.393939         0.042471\n",
       "549   -0.046005    -0.149319            -0.111111         0.045397\n",
       "548   -0.053269    -0.053207             0.090909         0.027919\n",
       "547   -0.050847     0.481608             0.647059         0.043646"
      ]
     },
     "execution_count": 13,
     "metadata": {},
     "output_type": "execute_result"
    }
   ],
   "source": [
    "LSTM_training_inputs[0]"
   ]
  },
  {
   "cell_type": "code",
   "execution_count": 14,
   "metadata": {
    "collapsed": true
   },
   "outputs": [],
   "source": [
    "# I find it easier to work with numpy arrays rather than pandas dataframes\n",
    "# especially as we now only have numerical data\n",
    "LSTM_training_inputs = [np.array(LSTM_training_input) for LSTM_training_input in LSTM_training_inputs]\n",
    "LSTM_training_inputs = np.array(LSTM_training_inputs)\n",
    "\n",
    "LSTM_test_inputs = [np.array(LSTM_test_inputs) for LSTM_test_inputs in LSTM_test_inputs]\n",
    "LSTM_test_inputs = np.array(LSTM_test_inputs)"
   ]
  },
  {
   "cell_type": "code",
   "execution_count": 15,
   "metadata": {
    "collapsed": false
   },
   "outputs": [
    {
     "name": "stderr",
     "output_type": "stream",
     "text": [
      "Using TensorFlow backend.\n"
     ]
    }
   ],
   "source": [
    "# import the relevant Keras modules\n",
    "from keras.models import Sequential\n",
    "from keras.layers import Activation, Dense\n",
    "from keras.layers import LSTM\n",
    "from keras.layers import Dropout\n",
    "\n",
    "def build_model(inputs, output_size, neurons, activ_func=\"linear\",\n",
    "                dropout=0.25, loss=\"mae\", optimizer=\"adam\"):\n",
    "    model = Sequential()\n",
    "\n",
    "    model.add(LSTM(neurons, input_shape=(inputs.shape[1], inputs.shape[2])))\n",
    "    model.add(Dropout(dropout))\n",
    "    model.add(Dense(units=output_size))\n",
    "    model.add(Activation(activ_func))\n",
    "\n",
    "    model.compile(loss=loss, optimizer=optimizer)\n",
    "    return model"
   ]
  },
  {
   "cell_type": "code",
   "execution_count": null,
   "metadata": {
    "collapsed": true
   },
   "outputs": [],
   "source": []
  },
  {
   "cell_type": "code",
   "execution_count": 16,
   "metadata": {
    "collapsed": false
   },
   "outputs": [
    {
     "name": "stdout",
     "output_type": "stream",
     "text": [
      "Epoch 1/10\n",
      "3s - loss: 0.1661\n",
      "Epoch 2/10\n",
      "2s - loss: 0.1197\n",
      "Epoch 3/10\n",
      "2s - loss: 0.1074\n",
      "Epoch 4/10\n",
      "2s - loss: 0.1038\n",
      "Epoch 5/10\n",
      "2s - loss: 0.1036\n",
      "Epoch 6/10\n",
      "2s - loss: 0.0976\n",
      "Epoch 7/10\n",
      "2s - loss: 0.1007\n",
      "Epoch 8/10\n",
      "2s - loss: 0.0976\n",
      "Epoch 9/10\n",
      "2s - loss: 0.0948\n",
      "Epoch 10/10\n",
      "2s - loss: 0.0946\n"
     ]
    }
   ],
   "source": [
    "# random seed for reproducibility\n",
    "np.random.seed(202)\n",
    "# we'll try to predict the closing price for the next 5 days \n",
    "# change this value if you want to make longer/shorter prediction\n",
    "pred_range = 5\n",
    "# initialise model architecture\n",
    "dash_model = build_model(LSTM_training_inputs, output_size=pred_range, neurons = 20)\n",
    "# model output is next 5 prices normalised to 10th previous closing price\n",
    "LSTM_training_outputs = []\n",
    "for i in range(window_len, len(training_set['dash_Close'])-pred_range):\n",
    "    LSTM_training_outputs.append((training_set['dash_Close'][i:i+pred_range].values/\n",
    "                                  training_set['dash_Close'].values[i-window_len])-1)\n",
    "LSTM_training_outputs = np.array(LSTM_training_outputs)\n",
    "# train model on data\n",
    "# note: dash_history contains information on the training error per epoch\n",
    "dash_history = dash_model.fit(LSTM_training_inputs[:-pred_range], LSTM_training_outputs, \n",
    "                            epochs=10, batch_size=1, verbose=2, shuffle=True)"
   ]
  },
  {
   "cell_type": "code",
   "execution_count": 17,
   "metadata": {
    "collapsed": false
   },
   "outputs": [
    {
     "data": {
      "image/png": "[encoded data removed]",
      "text/plain": [
       "<matplotlib.figure.Figure at 0x1830e7a40b8>"
      ]
     },
     "metadata": {},
     "output_type": "display_data"
    }
   ],
   "source": [
    "fig, ax1 = plt.subplots(1,1)\n",
    "\n",
    "ax1.plot(dash_history.epoch, dash_history.history['loss'])\n",
    "ax1.set_title('Training Error')\n",
    "\n",
    "if dash_model.loss == 'mae':\n",
    "    ax1.set_ylabel('Mean Absolute Error (MAE)',fontsize=12)\n",
    "# just in case you decided to change the model loss calculation\n",
    "else:\n",
    "    ax1.set_ylabel('Model Loss',fontsize=12)\n",
    "ax1.set_xlabel('# Epochs',fontsize=12)\n",
    "plt.show()"
   ]
  },
  {
   "cell_type": "code",
   "execution_count": 30,
   "metadata": {
    "collapsed": false
   },
   "outputs": [
    {
     "data": {
      "image/png": "[encoded data removed]",
      "text/plain": [
       "<matplotlib.figure.Figure at 0x18308f9eb70>"
      ]
     },
     "metadata": {},
     "output_type": "display_data"
    }
   ],
   "source": [
    "from mpl_toolkits.axes_grid1.inset_locator import zoomed_inset_axes\n",
    "from mpl_toolkits.axes_grid1.inset_locator import mark_inset\n",
    "\n",
    "fig, ax1 = plt.subplots(1,1)\n",
    "ax1.set_xticks([datetime.date(i,j,1) for i in range(2013,2019) for j in [1,5,9]])\n",
    "ax1.set_xticklabels([datetime.date(i,j,1).strftime('%b %Y')  for i in range(2013,2019) for j in [1,5,9]])\n",
    "ax1.plot(model_data[model_data['Date']< split_date]['Date'][window_len:].astype(datetime.datetime),\n",
    "         training_set['dash_Close'][window_len:], label='Actual')\n",
    "ax1.plot(model_data[model_data['Date']< split_date]['Date'][window_len:].astype(datetime.datetime),\n",
    "         ((np.transpose(dash_model.predict(LSTM_training_inputs))+1) * training_set['dash_Close'].values[:-window_len])[0], \n",
    "         label='Predicted')\n",
    "ax1.set_title('Training Set: Single Timepoint Prediction')\n",
    "ax1.set_ylabel('Dash Price ($)',fontsize=12)\n",
    "ax1.legend(bbox_to_anchor=(0.15, 1), loc=2, borderaxespad=0., prop={'size': 14})\n",
    "ax1.annotate('MAE: %.4f'%np.mean(np.abs((np.transpose(dash_model.predict(LSTM_training_inputs))+1)-\\\n",
    "            (training_set['dash_Close'].values[window_len:])/(training_set['dash_Close'].values[:-window_len]))), \n",
    "             xy=(0.75, 0.9),  xycoords='axes fraction',\n",
    "            xytext=(0.75, 0.9), textcoords='axes fraction')\n",
    "# figure inset code taken from http://akuederle.com/matplotlib-zoomed-up-inset\n",
    "axins = zoomed_inset_axes(ax1, 1.35, loc=4) # zoom-factor: 3.35, location: centre\n",
    "axins.set_xticks([datetime.date(i,j,1) for i in range(2013,2019) for j in [1,5,9]])\n",
    "axins.plot(model_data[model_data['Date']< split_date]['Date'][window_len:].astype(datetime.datetime),\n",
    "         training_set['dash_Close'][window_len:], label='Actual')\n",
    "axins.plot(model_data[model_data['Date']< split_date]['Date'][window_len:].astype(datetime.datetime),\n",
    "         ((np.transpose(dash_model.predict(LSTM_training_inputs))+1) * training_set['dash_Close'].values[:-window_len])[0], \n",
    "         label='Predicted')\n",
    "axins.set_xlim([datetime.date(2017, 3, 1), datetime.date(2017, 5, 1)])\n",
    "axins.set_ylim([10,60])\n",
    "axins.set_xticklabels('')\n",
    "mark_inset(ax1, axins, loc1=1, loc2=3, fc=\"none\", ec=\"0.5\")\n",
    "plt.show()"
   ]
  },
  {
   "cell_type": "code",
   "execution_count": 24,
   "metadata": {
    "collapsed": false
   },
   "outputs": [
    {
     "data": {
      "image/png": "[encoded data removed]",
      "text/plain": [
       "<matplotlib.figure.Figure at 0x1830fd46ac8>"
      ]
     },
     "metadata": {},
     "output_type": "display_data"
    }
   ],
   "source": [
    "# little bit of reformatting the predictions to closing prices\n",
    "dash_pred_prices = ((dash_model.predict(LSTM_test_inputs)[:-pred_range][::pred_range]+1)*\\\n",
    "                   test_set['dash_Close'].values[:-(window_len + pred_range)][::5].reshape(int(np.ceil((len(LSTM_test_inputs)-pred_range)/float(pred_range))),1))\n",
    "\n",
    "pred_colors = [\"#FF69B4\", \"#5D6D7E\", \"#F4D03F\",\"#A569BD\",\"#45B39D\"]\n",
    "fig, ax1 = plt.subplots(1,1)\n",
    "ax1.set_xticks([datetime.date(2017,i+1,1) for i in range(12)])\n",
    "ax1.set_xticklabels([datetime.date(2017,i+1,1).strftime('%b %d %Y')  for i in range(12)])\n",
    "ax1.plot(model_data[model_data['Date']>= split_date]['Date'][window_len:].astype(datetime.datetime),\n",
    "         test_set['dash_Close'][window_len:], label='Actual')\n",
    "for i, dash_pred in enumerate(dash_pred_prices):\n",
    "    # Only adding lines to the legend once\n",
    "    if i<5:\n",
    "        ax1.plot(model_data[model_data['Date']>= split_date]['Date'][window_len:].astype(datetime.datetime)[i*pred_range:i*pred_range+pred_range],\n",
    "                 dash_pred, color=pred_colors[i%5], label=\"Predicted\")\n",
    "    else: \n",
    "        ax1.plot(model_data[model_data['Date']>= split_date]['Date'][window_len:].astype(datetime.datetime)[i*pred_range:i*pred_range+pred_range],\n",
    "                 dash_pred, color=pred_colors[i%5])\n",
    "    ax1.plot(model_data[model_data['Date']>= split_date]['Date'][window_len:].astype(datetime.datetime)[i*pred_range:i*pred_range+pred_range],\n",
    "             dash_pred, color=pred_colors[i%5])\n",
    "ax1.set_title('Test Set: 5 Timepoint Predictions',fontsize=13)\n",
    "ax1.set_xticklabels('')\n",
    "ax1.set_ylabel('Dash Price ($)',fontsize=12)\n",
    "ax1.legend(bbox_to_anchor=(0.13, 1), loc=2, borderaxespad=0., prop={'size': 12})\n",
    "fig.tight_layout()\n",
    "plt.show()"
   ]
  },
  {
   "cell_type": "code",
   "execution_count": 69,
   "metadata": {
    "collapsed": false
   },
   "outputs": [
    {
     "name": "stdout",
     "output_type": "stream",
     "text": [
      "775\n",
      "776\n",
      "777\n",
      "778\n",
      "779\n",
      "780\n",
      "781\n",
      "782\n",
      "783\n",
      "784\n",
      "785\n",
      "786\n",
      "787\n",
      "788\n",
      "789\n",
      "790\n",
      "791\n",
      "792\n",
      "793\n",
      "794\n",
      "795\n",
      "796\n",
      "797\n",
      "798\n",
      "799\n"
     ]
    }
   ],
   "source": [
    "# warning: this cell may take some time to execute\n",
    "# this code builds 25 LSTM models for eth and bitcoin each (with 25 different initialisations)\n",
    "# the models are then saved so you hopefully only need to run this cell once\n",
    "\n",
    "# random seed for reproducibility\n",
    "# for rand_seed in range(775,800):\n",
    "#     print(rand_seed)\n",
    "#     np.random.seed(rand_seed)\n",
    "#     temp_model = build_model(LSTM_training_inputs, output_size=1, neurons = 20)\n",
    "#     temp_model.fit(LSTM_training_inputs,\n",
    "#                  (training_set['dash_Close'][window_len:].values/training_set['dash_Close'][:-window_len].values)-1,\n",
    "#                  epochs=50, batch_size=1, verbose=0, shuffle=True)\n",
    "#     temp_model.save('dash_model_randseed_%d.h5'%rand_seed)"
   ]
  },
  {
   "cell_type": "code",
   "execution_count": null,
   "metadata": {
    "collapsed": true
   },
   "outputs": [],
   "source": [
    "# assuming the previous cell was completed, this cell loads in the different initialisations\n",
    "# and calculates the average mean absolute error (mae)\n",
    "\n",
    "from keras.models import load_model\n",
    "\n",
    "dash_preds = []\n",
    "for rand_seed in range(775,800):\n",
    "    temp_model = load_model('dash_model_randseed_%d.h5'%rand_seed)\n",
    "    dash_preds.append(np.mean(abs(np.transpose(temp_model.predict(LSTM_test_inputs))-\n",
    "                (test_set['dash_Close'].values[window_len:]/test_set['dash_Close'].values[:-window_len]-1))))"
   ]
  },
  {
   "cell_type": "code",
   "execution_count": null,
   "metadata": {
    "collapsed": true
   },
   "outputs": [],
   "source": [
    "# dash_random_walk_preds = []\n",
    "# for rand_seed in range(775,800):\n",
    "#     np.random.seed(rand_seed)\n",
    "#     dash_random_walk_preds.append(\n",
    "#         np.mean(np.abs((np.random.normal(dash_r_walk_mean, dash_r_walk_sd, len(test_set)-window_len)+1)-\n",
    "#                        np.array(test_set['dash_Close'][window_len:])/np.array(test_set['dash_Close'][:-window_len]))))"
   ]
  },
  {
   "cell_type": "code",
   "execution_count": null,
   "metadata": {
    "collapsed": true
   },
   "outputs": [],
   "source": [
    "# fig, (ax1, ax2) = plt.subplots(1,2)\n",
    "# ax1.boxplot([bt_preds, bt_random_walk_preds],widths=0.75)\n",
    "# ax1.set_ylim([0, 0.2])\n",
    "# ax2.boxplot([eth_preds, eth_random_walk_preds],widths=0.75)\n",
    "# ax2.set_ylim([0, 0.2])\n",
    "# ax1.set_xticklabels(['LSTM', 'Random Walk'])\n",
    "# ax2.set_xticklabels(['LSTM', 'Random Walk'])\n",
    "# ax1.set_title('Bitcoin Test Set (25 runs)')\n",
    "# ax2.set_title('Ethereum Test Set (25 runs)')\n",
    "# ax2.set_yticklabels('')\n",
    "# ax1.set_ylabel('Mean Absolute Error (MAE)',fontsize=12)\n",
    "# plt.show()"
   ]
  }
 ],
 "metadata": {
  "kernelspec": {
   "display_name": "Python 3",
   "language": "python",
   "name": "python3"
  },
  "language_info": {
   "codemirror_mode": {
    "name": "ipython",
    "version": 3
   },
   "file_extension": ".py",
   "mimetype": "text/x-python",
   "name": "python",
   "nbconvert_exporter": "python",
   "pygments_lexer": "ipython3",
   "version": "3.6.2"
  }
 },
 "nbformat": 4,
 "nbformat_minor": 2
}
