{
 "cells": [
  {
   "cell_type": "code",
   "execution_count": 26,
   "metadata": {
    "collapsed": false
   },
   "outputs": [
    {
     "data": {
      "text/html": [
       "<div>\n",
       "<table border=\"1\" class=\"dataframe\">\n",
       "  <thead>\n",
       "    <tr style=\"text-align: right;\">\n",
       "      <th></th>\n",
       "      <th>Date</th>\n",
       "      <th>Open</th>\n",
       "      <th>High</th>\n",
       "      <th>Low</th>\n",
       "      <th>Close</th>\n",
       "      <th>Volume</th>\n",
       "      <th>Market Cap</th>\n",
       "    </tr>\n",
       "  </thead>\n",
       "  <tbody>\n",
       "    <tr>\n",
       "      <th>0</th>\n",
       "      <td>2017-12-02</td>\n",
       "      <td>797.90</td>\n",
       "      <td>802.12</td>\n",
       "      <td>769.39</td>\n",
       "      <td>778.43</td>\n",
       "      <td>188147000</td>\n",
       "      <td>6161690000</td>\n",
       "    </tr>\n",
       "    <tr>\n",
       "      <th>1</th>\n",
       "      <td>2017-12-01</td>\n",
       "      <td>787.47</td>\n",
       "      <td>806.37</td>\n",
       "      <td>756.48</td>\n",
       "      <td>797.53</td>\n",
       "      <td>286044000</td>\n",
       "      <td>6079550000</td>\n",
       "    </tr>\n",
       "    <tr>\n",
       "      <th>2</th>\n",
       "      <td>2017-11-30</td>\n",
       "      <td>681.13</td>\n",
       "      <td>826.95</td>\n",
       "      <td>670.99</td>\n",
       "      <td>786.93</td>\n",
       "      <td>498872000</td>\n",
       "      <td>5257210000</td>\n",
       "    </tr>\n",
       "    <tr>\n",
       "      <th>3</th>\n",
       "      <td>2017-11-29</td>\n",
       "      <td>626.26</td>\n",
       "      <td>815.01</td>\n",
       "      <td>625.37</td>\n",
       "      <td>677.39</td>\n",
       "      <td>415879000</td>\n",
       "      <td>4832510000</td>\n",
       "    </tr>\n",
       "    <tr>\n",
       "      <th>4</th>\n",
       "      <td>2017-11-28</td>\n",
       "      <td>632.44</td>\n",
       "      <td>637.06</td>\n",
       "      <td>616.31</td>\n",
       "      <td>626.42</td>\n",
       "      <td>149795000</td>\n",
       "      <td>4878960000</td>\n",
       "    </tr>\n",
       "  </tbody>\n",
       "</table>\n",
       "</div>"
      ],
      "text/plain": [
       "        Date    Open    High     Low   Close     Volume  Market Cap\n",
       "0 2017-12-02  797.90  802.12  769.39  778.43  188147000  6161690000\n",
       "1 2017-12-01  787.47  806.37  756.48  797.53  286044000  6079550000\n",
       "2 2017-11-30  681.13  826.95  670.99  786.93  498872000  5257210000\n",
       "3 2017-11-29  626.26  815.01  625.37  677.39  415879000  4832510000\n",
       "4 2017-11-28  632.44  637.06  616.31  626.42  149795000  4878960000"
      ]
     },
     "execution_count": 26,
     "metadata": {},
     "output_type": "execute_result"
    }
   ],
   "source": [
    "import pandas as pd\n",
    "import time\n",
    "import seaborn as sns\n",
    "import matplotlib.pyplot as plt\n",
    "import datetime\n",
    "import numpy as np\n",
    "\n",
    "# get market info for dash from the start of 2016 to the current day\n",
    "dash_market_info = pd.read_html(\"https://coinmarketcap.com/currencies/dash/historical-data/?start=20130428&end=\"+time.strftime(\"%Y%m%d\"))[0]\n",
    "# convert the date string to the correct date format\n",
    "dash_market_info = dash_market_info.assign(Date=pd.to_datetime(dash_market_info['Date']))\n",
    "# when Volume is equal to '-' convert it to 0\n",
    "# dash_market_info.loc[dash_market_info['Volume']==\"-\",'Volume']=0\n",
    "# convert to int\n",
    "dash_market_info['Volume'] = dash_market_info['Volume'].astype('int64')\n",
    "# look at the first few rows\n",
    "dash_market_info.head()"
   ]
  },
  {
   "cell_type": "code",
   "execution_count": 27,
   "metadata": {
    "collapsed": true
   },
   "outputs": [],
   "source": [
    "dash_market_info.columns =[dash_market_info.columns[0]]+['dash_'+i for i in dash_market_info.columns[1:]]"
   ]
  },
  {
   "cell_type": "code",
   "execution_count": 28,
   "metadata": {
    "collapsed": false
   },
   "outputs": [
    {
     "data": {
      "image/png": "[encoded data removed]",
      "text/plain": [
       "<matplotlib.figure.Figure at 0x19446fe6a20>"
      ]
     },
     "metadata": {},
     "output_type": "display_data"
    }
   ],
   "source": [
    "fig, (ax1, ax2) = plt.subplots(2,1, gridspec_kw = {'height_ratios':[3, 1]})\n",
    "ax1.set_ylabel('Closing Price ($)',fontsize=12)\n",
    "ax2.set_ylabel('Volume ($ bn)',fontsize=12)\n",
    "ax2.set_yticks([int('%d000000000'%i) for i in range(10)])\n",
    "ax2.set_yticklabels(range(10))\n",
    "ax1.set_xticks([datetime.date(i,j,1) for i in range(2013,2019) for j in [1,7]])\n",
    "ax1.set_xticklabels('')\n",
    "ax2.set_xticks([datetime.date(i,j,1) for i in range(2013,2019) for j in [1,7]])\n",
    "ax2.set_xticklabels([datetime.date(i,j,1).strftime('%b %Y')  for i in range(2013,2019) for j in [1,7]])\n",
    "ax1.plot(dash_market_info['Date'].astype(datetime.datetime),dash_market_info['dash_Open'])\n",
    "ax2.bar(dash_market_info['Date'].astype(datetime.datetime).values, dash_market_info['dash_Volume'].values)\n",
    "fig.tight_layout()\n",
    "# fig.figimage(bitcoin_im, 100, 120, zorder=3,alpha=.5)\n",
    "plt.show()"
   ]
  },
  {
   "cell_type": "code",
   "execution_count": 29,
   "metadata": {
    "collapsed": false
   },
   "outputs": [
    {
     "data": {
      "text/html": [
       "<div>\n",
       "<table border=\"1\" class=\"dataframe\">\n",
       "  <thead>\n",
       "    <tr style=\"text-align: right;\">\n",
       "      <th></th>\n",
       "      <th>Date</th>\n",
       "      <th>dash_Open</th>\n",
       "      <th>dash_High</th>\n",
       "      <th>dash_Low</th>\n",
       "      <th>dash_Close</th>\n",
       "      <th>dash_Volume</th>\n",
       "      <th>dash_Market Cap</th>\n",
       "      <th>dash_day_diff</th>\n",
       "    </tr>\n",
       "  </thead>\n",
       "  <tbody>\n",
       "    <tr>\n",
       "      <th>0</th>\n",
       "      <td>2017-12-02</td>\n",
       "      <td>797.90</td>\n",
       "      <td>802.12</td>\n",
       "      <td>769.39</td>\n",
       "      <td>778.43</td>\n",
       "      <td>188147000</td>\n",
       "      <td>6161690000</td>\n",
       "      <td>-0.024402</td>\n",
       "    </tr>\n",
       "    <tr>\n",
       "      <th>1</th>\n",
       "      <td>2017-12-01</td>\n",
       "      <td>787.47</td>\n",
       "      <td>806.37</td>\n",
       "      <td>756.48</td>\n",
       "      <td>797.53</td>\n",
       "      <td>286044000</td>\n",
       "      <td>6079550000</td>\n",
       "      <td>0.012775</td>\n",
       "    </tr>\n",
       "    <tr>\n",
       "      <th>2</th>\n",
       "      <td>2017-11-30</td>\n",
       "      <td>681.13</td>\n",
       "      <td>826.95</td>\n",
       "      <td>670.99</td>\n",
       "      <td>786.93</td>\n",
       "      <td>498872000</td>\n",
       "      <td>5257210000</td>\n",
       "      <td>0.155330</td>\n",
       "    </tr>\n",
       "    <tr>\n",
       "      <th>3</th>\n",
       "      <td>2017-11-29</td>\n",
       "      <td>626.26</td>\n",
       "      <td>815.01</td>\n",
       "      <td>625.37</td>\n",
       "      <td>677.39</td>\n",
       "      <td>415879000</td>\n",
       "      <td>4832510000</td>\n",
       "      <td>0.081643</td>\n",
       "    </tr>\n",
       "    <tr>\n",
       "      <th>4</th>\n",
       "      <td>2017-11-28</td>\n",
       "      <td>632.44</td>\n",
       "      <td>637.06</td>\n",
       "      <td>616.31</td>\n",
       "      <td>626.42</td>\n",
       "      <td>149795000</td>\n",
       "      <td>4878960000</td>\n",
       "      <td>-0.009519</td>\n",
       "    </tr>\n",
       "  </tbody>\n",
       "</table>\n",
       "</div>"
      ],
      "text/plain": [
       "        Date  dash_Open  dash_High  dash_Low  dash_Close  dash_Volume  \\\n",
       "0 2017-12-02     797.90     802.12    769.39      778.43    188147000   \n",
       "1 2017-12-01     787.47     806.37    756.48      797.53    286044000   \n",
       "2 2017-11-30     681.13     826.95    670.99      786.93    498872000   \n",
       "3 2017-11-29     626.26     815.01    625.37      677.39    415879000   \n",
       "4 2017-11-28     632.44     637.06    616.31      626.42    149795000   \n",
       "\n",
       "   dash_Market Cap  dash_day_diff  \n",
       "0       6161690000      -0.024402  \n",
       "1       6079550000       0.012775  \n",
       "2       5257210000       0.155330  \n",
       "3       4832510000       0.081643  \n",
       "4       4878960000      -0.009519  "
      ]
     },
     "execution_count": 29,
     "metadata": {},
     "output_type": "execute_result"
    }
   ],
   "source": [
    "# market_info = pd.merge(bitcoin_market_info,eth_market_info, on=['Date'])\n",
    "# market_info = market_info[market_info['Date']>='2016-01-01']\n",
    "# for coins in ['bt_', 'eth_']: \n",
    "#     kwargs = { coins+'day_diff': lambda x: (x[coins+'Close']-x[coins+'Open'])/x[coins+'Open']}\n",
    "#     market_info = market_info.assign(**kwargs)\n",
    "# market_info.head()\n",
    "kwargs = {'dash_day_diff': lambda x: (x['dash_Close']-x['dash_Open'])/x['dash_Open']}\n",
    "dash_market_info = dash_market_info.assign(**kwargs)\n",
    "dash_market_info.head()"
   ]
  },
  {
   "cell_type": "code",
   "execution_count": 32,
   "metadata": {
    "collapsed": false
   },
   "outputs": [
    {
     "data": {
      "image/png": "[encoded data removed]",
      "text/plain": [
       "<matplotlib.figure.Figure at 0x19446ea5c88>"
      ]
     },
     "metadata": {},
     "output_type": "display_data"
    }
   ],
   "source": [
    "split_date = '2017-06-01'\n",
    "fig, ax1 = plt.subplots(1,1)\n",
    "ax1.set_xticks([datetime.date(i,j,1) for i in range(2013,2019) for j in [1,7]])\n",
    "ax1.set_xticklabels([datetime.date(i,j,1).strftime('%b %Y')  for i in range(2013,2019) for j in [1,7]])\n",
    "ax1.plot(dash_market_info[dash_market_info['Date'] < split_date]['Date'].astype(datetime.datetime),\n",
    "         dash_market_info[dash_market_info['Date'] < split_date]['dash_Close'], \n",
    "         color='#B08FC7', label='Training')\n",
    "ax1.plot(dash_market_info[dash_market_info['Date'] >= split_date]['Date'].astype(datetime.datetime),\n",
    "         dash_market_info[dash_market_info['Date'] >= split_date]['dash_Close'], \n",
    "         color='#8FBAC8', label='Test')\n",
    "ax1.set_ylabel('Dash Price ($)',fontsize=12)\n",
    "plt.tight_layout()\n",
    "ax1.legend(bbox_to_anchor=(0.03, 1), loc=2, borderaxespad=0., prop={'size': 14})\n",
    "# fig.figimage(bitcoin_im.resize((int(bitcoin_im.size[0]*0.65), int(bitcoin_im.size[1]*0.65)), Image.ANTIALIAS), \n",
    "#              200, 260, zorder=3,alpha=.5)\n",
    "# fig.figimage(eth_im.resize((int(eth_im.size[0]*0.65), int(eth_im.size[1]*0.65)), Image.ANTIALIAS), \n",
    "#              350, 40, zorder=3,alpha=.5)\n",
    "plt.show()"
   ]
  },
  {
   "cell_type": "code",
   "execution_count": 31,
   "metadata": {
    "collapsed": false
   },
   "outputs": [
    {
     "data": {
      "image/png": "[encoded data removed]",
      "text/plain": [
       "<matplotlib.figure.Figure at 0x194470ff2b0>"
      ]
     },
     "metadata": {},
     "output_type": "display_data"
    }
   ],
   "source": [
    "# distribution of daily price changes\n",
    "fig, ax1 = plt.subplots(1,1)\n",
    "ax1.hist(dash_market_info[dash_market_info['Date']< split_date]['dash_day_diff'].values, bins=100)\n",
    "ax1.set_title('Dash Daily Price Changes')\n",
    "plt.show()"
   ]
  },
  {
   "cell_type": "code",
   "execution_count": 34,
   "metadata": {
    "collapsed": false
   },
   "outputs": [
    {
     "data": {
      "text/html": [
       "<div>\n",
       "<table border=\"1\" class=\"dataframe\">\n",
       "  <thead>\n",
       "    <tr style=\"text-align: right;\">\n",
       "      <th></th>\n",
       "      <th>Date</th>\n",
       "      <th>dash_Open</th>\n",
       "      <th>dash_High</th>\n",
       "      <th>dash_Low</th>\n",
       "      <th>dash_Close</th>\n",
       "      <th>dash_Volume</th>\n",
       "      <th>dash_Market Cap</th>\n",
       "      <th>dash_day_diff</th>\n",
       "      <th>dash_close_off_high</th>\n",
       "      <th>dash_volatility</th>\n",
       "    </tr>\n",
       "  </thead>\n",
       "  <tbody>\n",
       "    <tr>\n",
       "      <th>0</th>\n",
       "      <td>2017-12-02</td>\n",
       "      <td>797.90</td>\n",
       "      <td>802.12</td>\n",
       "      <td>769.39</td>\n",
       "      <td>778.43</td>\n",
       "      <td>188147000</td>\n",
       "      <td>6161690000</td>\n",
       "      <td>-0.024402</td>\n",
       "      <td>0.447602</td>\n",
       "      <td>0.041020</td>\n",
       "    </tr>\n",
       "    <tr>\n",
       "      <th>1</th>\n",
       "      <td>2017-12-01</td>\n",
       "      <td>787.47</td>\n",
       "      <td>806.37</td>\n",
       "      <td>756.48</td>\n",
       "      <td>797.53</td>\n",
       "      <td>286044000</td>\n",
       "      <td>6079550000</td>\n",
       "      <td>0.012775</td>\n",
       "      <td>-0.645620</td>\n",
       "      <td>0.063355</td>\n",
       "    </tr>\n",
       "    <tr>\n",
       "      <th>2</th>\n",
       "      <td>2017-11-30</td>\n",
       "      <td>681.13</td>\n",
       "      <td>826.95</td>\n",
       "      <td>670.99</td>\n",
       "      <td>786.93</td>\n",
       "      <td>498872000</td>\n",
       "      <td>5257210000</td>\n",
       "      <td>0.155330</td>\n",
       "      <td>-0.486791</td>\n",
       "      <td>0.228972</td>\n",
       "    </tr>\n",
       "    <tr>\n",
       "      <th>3</th>\n",
       "      <td>2017-11-29</td>\n",
       "      <td>626.26</td>\n",
       "      <td>815.01</td>\n",
       "      <td>625.37</td>\n",
       "      <td>677.39</td>\n",
       "      <td>415879000</td>\n",
       "      <td>4832510000</td>\n",
       "      <td>0.081643</td>\n",
       "      <td>0.451382</td>\n",
       "      <td>0.302814</td>\n",
       "    </tr>\n",
       "    <tr>\n",
       "      <th>4</th>\n",
       "      <td>2017-11-28</td>\n",
       "      <td>632.44</td>\n",
       "      <td>637.06</td>\n",
       "      <td>616.31</td>\n",
       "      <td>626.42</td>\n",
       "      <td>149795000</td>\n",
       "      <td>4878960000</td>\n",
       "      <td>-0.009519</td>\n",
       "      <td>0.025542</td>\n",
       "      <td>0.032809</td>\n",
       "    </tr>\n",
       "  </tbody>\n",
       "</table>\n",
       "</div>"
      ],
      "text/plain": [
       "        Date  dash_Open  dash_High  dash_Low  dash_Close  dash_Volume  \\\n",
       "0 2017-12-02     797.90     802.12    769.39      778.43    188147000   \n",
       "1 2017-12-01     787.47     806.37    756.48      797.53    286044000   \n",
       "2 2017-11-30     681.13     826.95    670.99      786.93    498872000   \n",
       "3 2017-11-29     626.26     815.01    625.37      677.39    415879000   \n",
       "4 2017-11-28     632.44     637.06    616.31      626.42    149795000   \n",
       "\n",
       "   dash_Market Cap  dash_day_diff  dash_close_off_high  dash_volatility  \n",
       "0       6161690000      -0.024402             0.447602         0.041020  \n",
       "1       6079550000       0.012775            -0.645620         0.063355  \n",
       "2       5257210000       0.155330            -0.486791         0.228972  \n",
       "3       4832510000       0.081643             0.451382         0.302814  \n",
       "4       4878960000      -0.009519             0.025542         0.032809  "
      ]
     },
     "execution_count": 34,
     "metadata": {},
     "output_type": "execute_result"
    }
   ],
   "source": [
    "kwargs = { 'dash_close_off_high': lambda x: 2*(x['dash_High']- x['dash_Close'])/(x['dash_High']-x['dash_Low'])-1,\n",
    "            'dash_volatility': lambda x: (x['dash_High']- x['dash_Low'])/(x['dash_Open'])}\n",
    "dash_market_info = dash_market_info.assign(**kwargs)\n",
    "dash_market_info.head()"
   ]
  },
  {
   "cell_type": "code",
   "execution_count": 39,
   "metadata": {
    "collapsed": false
   },
   "outputs": [
    {
     "data": {
      "text/html": [
       "<div>\n",
       "<table border=\"1\" class=\"dataframe\">\n",
       "  <thead>\n",
       "    <tr style=\"text-align: right;\">\n",
       "      <th></th>\n",
       "      <th>Date</th>\n",
       "      <th>dash_Close</th>\n",
       "      <th>dash_Volume</th>\n",
       "      <th>dash_close_off_high</th>\n",
       "      <th>dash_volatility</th>\n",
       "    </tr>\n",
       "  </thead>\n",
       "  <tbody>\n",
       "    <tr>\n",
       "      <th>1387</th>\n",
       "      <td>2014-02-14</td>\n",
       "      <td>0.374024</td>\n",
       "      <td>15422</td>\n",
       "      <td>-0.941097</td>\n",
       "      <td>0.771317</td>\n",
       "    </tr>\n",
       "    <tr>\n",
       "      <th>1386</th>\n",
       "      <td>2014-02-15</td>\n",
       "      <td>0.314865</td>\n",
       "      <td>21119</td>\n",
       "      <td>-0.413510</td>\n",
       "      <td>0.407800</td>\n",
       "    </tr>\n",
       "    <tr>\n",
       "      <th>1385</th>\n",
       "      <td>2014-02-16</td>\n",
       "      <td>0.406976</td>\n",
       "      <td>28017</td>\n",
       "      <td>-0.292826</td>\n",
       "      <td>0.458777</td>\n",
       "    </tr>\n",
       "    <tr>\n",
       "      <th>1384</th>\n",
       "      <td>2014-02-17</td>\n",
       "      <td>1.450000</td>\n",
       "      <td>178618</td>\n",
       "      <td>-0.908877</td>\n",
       "      <td>2.702726</td>\n",
       "    </tr>\n",
       "    <tr>\n",
       "      <th>1383</th>\n",
       "      <td>2014-02-18</td>\n",
       "      <td>1.040000</td>\n",
       "      <td>160779</td>\n",
       "      <td>0.397647</td>\n",
       "      <td>0.557838</td>\n",
       "    </tr>\n",
       "  </tbody>\n",
       "</table>\n",
       "</div>"
      ],
      "text/plain": [
       "           Date  dash_Close  dash_Volume  dash_close_off_high  dash_volatility\n",
       "1387 2014-02-14    0.374024        15422            -0.941097         0.771317\n",
       "1386 2014-02-15    0.314865        21119            -0.413510         0.407800\n",
       "1385 2014-02-16    0.406976        28017            -0.292826         0.458777\n",
       "1384 2014-02-17    1.450000       178618            -0.908877         2.702726\n",
       "1383 2014-02-18    1.040000       160779             0.397647         0.557838"
      ]
     },
     "execution_count": 39,
     "metadata": {},
     "output_type": "execute_result"
    }
   ],
   "source": [
    "model_data = dash_market_info[['Date']+['dash_'+metric for metric in ['Close', 'Volume', 'close_off_high', 'volatility']]]\n",
    "# need to reverse the data frame so that subsequent rows represent later timepoints\n",
    "model_data = model_data.sort_values(by='Date')\n",
    "model_data.head()"
   ]
  },
  {
   "cell_type": "code",
   "execution_count": 40,
   "metadata": {
    "collapsed": true
   },
   "outputs": [],
   "source": [
    "# we don't need the date columns anymore\n",
    "training_set, test_set = model_data[model_data['Date']<split_date], model_data[model_data['Date']>=split_date]\n",
    "training_set = training_set.drop('Date', 1)\n",
    "test_set = test_set.drop('Date', 1)"
   ]
  },
  {
   "cell_type": "code",
   "execution_count": 41,
   "metadata": {
    "collapsed": true
   },
   "outputs": [],
   "source": [
    "window_len = 10\n",
    "norm_cols = ['dash_Close', 'dash_Volume']\n",
    "# norm_cols = [coin+metric for coin in ['bt_', 'eth_'] for metric in ['Close','Volume']]"
   ]
  },
  {
   "cell_type": "code",
   "execution_count": 42,
   "metadata": {
    "collapsed": true
   },
   "outputs": [],
   "source": [
    "LSTM_training_inputs = []\n",
    "for i in range(len(training_set)-window_len):\n",
    "    temp_set = training_set[i:(i+window_len)].copy()\n",
    "    for col in norm_cols:\n",
    "        temp_set.loc[:, col] = temp_set[col]/temp_set[col].iloc[0] - 1\n",
    "    LSTM_training_inputs.append(temp_set)\n",
    "LSTM_training_outputs = (training_set['dash_Close'][window_len:].values/training_set['dash_Close'][:-window_len].values)-1"
   ]
  },
  {
   "cell_type": "code",
   "execution_count": 43,
   "metadata": {
    "collapsed": true
   },
   "outputs": [],
   "source": [
    "LSTM_test_inputs = []\n",
    "for i in range(len(test_set)-window_len):\n",
    "    temp_set = test_set[i:(i+window_len)].copy()\n",
    "    for col in norm_cols:\n",
    "        temp_set.loc[:, col] = temp_set[col]/temp_set[col].iloc[0] - 1\n",
    "    LSTM_test_inputs.append(temp_set)\n",
    "LSTM_test_outputs = (test_set['dash_Close'][window_len:].values/test_set['dash_Close'][:-window_len].values)-1"
   ]
  },
  {
   "cell_type": "code",
   "execution_count": 44,
   "metadata": {
    "collapsed": false
   },
   "outputs": [
    {
     "data": {
      "text/html": [
       "<div>\n",
       "<table border=\"1\" class=\"dataframe\">\n",
       "  <thead>\n",
       "    <tr style=\"text-align: right;\">\n",
       "      <th></th>\n",
       "      <th>dash_Close</th>\n",
       "      <th>dash_Volume</th>\n",
       "      <th>dash_close_off_high</th>\n",
       "      <th>dash_volatility</th>\n",
       "    </tr>\n",
       "  </thead>\n",
       "  <tbody>\n",
       "    <tr>\n",
       "      <th>1387</th>\n",
       "      <td>0.000000</td>\n",
       "      <td>0.000000</td>\n",
       "      <td>-0.941097</td>\n",
       "      <td>0.771317</td>\n",
       "    </tr>\n",
       "    <tr>\n",
       "      <th>1386</th>\n",
       "      <td>-0.158169</td>\n",
       "      <td>0.369407</td>\n",
       "      <td>-0.413510</td>\n",
       "      <td>0.407800</td>\n",
       "    </tr>\n",
       "    <tr>\n",
       "      <th>1385</th>\n",
       "      <td>0.088101</td>\n",
       "      <td>0.816690</td>\n",
       "      <td>-0.292826</td>\n",
       "      <td>0.458777</td>\n",
       "    </tr>\n",
       "    <tr>\n",
       "      <th>1384</th>\n",
       "      <td>2.876757</td>\n",
       "      <td>10.582026</td>\n",
       "      <td>-0.908877</td>\n",
       "      <td>2.702726</td>\n",
       "    </tr>\n",
       "    <tr>\n",
       "      <th>1383</th>\n",
       "      <td>1.780570</td>\n",
       "      <td>9.425302</td>\n",
       "      <td>0.397647</td>\n",
       "      <td>0.557838</td>\n",
       "    </tr>\n",
       "    <tr>\n",
       "      <th>1382</th>\n",
       "      <td>1.517611</td>\n",
       "      <td>2.926274</td>\n",
       "      <td>0.499158</td>\n",
       "      <td>0.344236</td>\n",
       "    </tr>\n",
       "    <tr>\n",
       "      <th>1381</th>\n",
       "      <td>1.834043</td>\n",
       "      <td>5.048567</td>\n",
       "      <td>0.014517</td>\n",
       "      <td>0.355791</td>\n",
       "    </tr>\n",
       "    <tr>\n",
       "      <th>1380</th>\n",
       "      <td>2.021197</td>\n",
       "      <td>4.382441</td>\n",
       "      <td>0.290323</td>\n",
       "      <td>0.295238</td>\n",
       "    </tr>\n",
       "    <tr>\n",
       "      <th>1379</th>\n",
       "      <td>2.315295</td>\n",
       "      <td>5.550642</td>\n",
       "      <td>-0.929015</td>\n",
       "      <td>0.503123</td>\n",
       "    </tr>\n",
       "    <tr>\n",
       "      <th>1378</th>\n",
       "      <td>2.074669</td>\n",
       "      <td>6.472053</td>\n",
       "      <td>0.615168</td>\n",
       "      <td>2.379615</td>\n",
       "    </tr>\n",
       "  </tbody>\n",
       "</table>\n",
       "</div>"
      ],
      "text/plain": [
       "      dash_Close  dash_Volume  dash_close_off_high  dash_volatility\n",
       "1387    0.000000     0.000000            -0.941097         0.771317\n",
       "1386   -0.158169     0.369407            -0.413510         0.407800\n",
       "1385    0.088101     0.816690            -0.292826         0.458777\n",
       "1384    2.876757    10.582026            -0.908877         2.702726\n",
       "1383    1.780570     9.425302             0.397647         0.557838\n",
       "1382    1.517611     2.926274             0.499158         0.344236\n",
       "1381    1.834043     5.048567             0.014517         0.355791\n",
       "1380    2.021197     4.382441             0.290323         0.295238\n",
       "1379    2.315295     5.550642            -0.929015         0.503123\n",
       "1378    2.074669     6.472053             0.615168         2.379615"
      ]
     },
     "execution_count": 44,
     "metadata": {},
     "output_type": "execute_result"
    }
   ],
   "source": [
    "LSTM_training_inputs[0]"
   ]
  },
  {
   "cell_type": "code",
   "execution_count": 45,
   "metadata": {
    "collapsed": true
   },
   "outputs": [],
   "source": [
    "# I find it easier to work with numpy arrays rather than pandas dataframes\n",
    "# especially as we now only have numerical data\n",
    "LSTM_training_inputs = [np.array(LSTM_training_input) for LSTM_training_input in LSTM_training_inputs]\n",
    "LSTM_training_inputs = np.array(LSTM_training_inputs)\n",
    "\n",
    "LSTM_test_inputs = [np.array(LSTM_test_inputs) for LSTM_test_inputs in LSTM_test_inputs]\n",
    "LSTM_test_inputs = np.array(LSTM_test_inputs)"
   ]
  },
  {
   "cell_type": "code",
   "execution_count": 46,
   "metadata": {
    "collapsed": false
   },
   "outputs": [
    {
     "name": "stderr",
     "output_type": "stream",
     "text": [
      "Using TensorFlow backend.\n"
     ]
    }
   ],
   "source": [
    "# import the relevant Keras modules\n",
    "from keras.models import Sequential\n",
    "from keras.layers import Activation, Dense\n",
    "from keras.layers import LSTM\n",
    "from keras.layers import Dropout\n",
    "\n",
    "def build_model(inputs, output_size, neurons, activ_func=\"linear\",\n",
    "                dropout=0.25, loss=\"mae\", optimizer=\"adam\"):\n",
    "    model = Sequential()\n",
    "\n",
    "    model.add(LSTM(neurons, input_shape=(inputs.shape[1], inputs.shape[2])))\n",
    "    model.add(Dropout(dropout))\n",
    "    model.add(Dense(units=output_size))\n",
    "    model.add(Activation(activ_func))\n",
    "\n",
    "    model.compile(loss=loss, optimizer=optimizer)\n",
    "    return model"
   ]
  },
  {
   "cell_type": "code",
   "execution_count": 47,
   "metadata": {
    "collapsed": true
   },
   "outputs": [],
   "source": []
  },
  {
   "cell_type": "code",
   "execution_count": null,
   "metadata": {
    "collapsed": true
   },
   "outputs": [],
   "source": []
  }
 ],
 "metadata": {
  "kernelspec": {
   "display_name": "Python 3",
   "language": "python",
   "name": "python3"
  },
  "language_info": {
   "codemirror_mode": {
    "name": "ipython",
    "version": 3
   },
   "file_extension": ".py",
   "mimetype": "text/x-python",
   "name": "python",
   "nbconvert_exporter": "python",
   "pygments_lexer": "ipython3",
   "version": "3.6.2"
  }
 },
 "nbformat": 4,
 "nbformat_minor": 2
}
